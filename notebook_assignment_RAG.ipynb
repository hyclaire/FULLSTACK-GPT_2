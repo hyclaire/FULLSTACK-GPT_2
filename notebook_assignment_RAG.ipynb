{
 "cells": [
  {
   "cell_type": "code",
   "execution_count": 14,
   "metadata": {},
   "outputs": [
    {
     "data": {
      "text/plain": [
       "{'history': 'Human: Is Aaronson guilty?\\nAI: content=\"I don\\'t know.\"\\nHuman: What message did he write on the table?\\nAI: content=\\'He wrote: \"FREEDOM IS SLAVERY\" and then \"TWO AND TWO MAKE FIVE\" on the table.\\'\\nHuman: Who is Julia?\\nAI: content=\\'Julia is a character mentioned in the text who seems to be someone the protagonist loves and feels a strong connection to.\\''}"
      ]
     },
     "execution_count": 14,
     "metadata": {},
     "output_type": "execute_result"
    }
   ],
   "source": [
    "from langchain.embeddings import OpenAIEmbeddings, CacheBackedEmbeddings\n",
    "from langchain.vectorstores import Chroma\n",
    "from langchain.storage import LocalFileStore\n",
    "from langchain.chains import RetrievalQA\n",
    "from langchain.chat_models import ChatOpenAI\n",
    "from langchain.document_loaders import TextLoader\n",
    "from langchain.document_loaders import PyPDFLoader\n",
    "from langchain.document_loaders import UnstructuredFileLoader #works with PDF, txt, docx\n",
    "#we don't need to care about the type of the files\n",
    "from langchain.text_splitter import RecursiveCharacterTextSplitter\n",
    "from langchain.text_splitter import CharacterTextSplitter\n",
    "from langchain.prompts import ChatPromptTemplate\n",
    "from langchain.schema.runnable import RunnablePassthrough\n",
    "from langchain.prompts import PromptTemplate, ChatPromptTemplate\n",
    "from langchain.memory import ConversationBufferMemory\n",
    "from langchain.chains import ConversationChain\n",
    "\n",
    "cache_dir = LocalFileStore(\"./.cache2/\")\n",
    "\n",
    "llm = ChatOpenAI(\n",
    "    temperature=0.1\n",
    ")\n",
    "\n",
    "embedder = OpenAIEmbeddings()\n",
    "\n",
    "splitter = CharacterTextSplitter.from_tiktoken_encoder(\n",
    "    separator = \"\\n\",\n",
    "    chunk_size = 600,\n",
    "    chunk_overlap=100,\n",
    ")\n",
    "\n",
    "loader = UnstructuredFileLoader(\"./files/document.txt\")\n",
    "docs = loader.load_and_split(text_splitter=splitter)\n",
    "\n",
    "embeddings = OpenAIEmbeddings()\n",
    "\n",
    "cached_embeddings = CacheBackedEmbeddings.from_bytes_store(\n",
    "    embeddings, cache_dir\n",
    ")\n",
    "\n",
    "vectorstore = Chroma.from_documents(docs, cached_embeddings)\n",
    "\n",
    "retriever = vectorstore.as_retriever()\n",
    "\n",
    "prompt = ChatPromptTemplate.from_messages([\n",
    "    (\"system\", \"You are a helpful assistant. Answer questions using only the following context. If you don't know the answer just say you don't know, don't make it up: \\n\\n{context}\")\n",
    "    ,\n",
    "    (\"human\", \"{question}\")\n",
    "])\n",
    "\n",
    "chain = {\"context\": retriever, \"question\": RunnablePassthrough()} | prompt | llm\n",
    "\n",
    "#chain.invoke(\"Who is Julia?\")\n",
    "\n",
    "memory = ConversationBufferMemory()\n",
    "\n",
    "question_1 = \"Is Aaronson guilty?\"\n",
    "output_1 = str(chain.invoke(question_1))\n",
    "# # will be saved to the memory\n",
    "\n",
    "memory.save_context({\"input\": question_1}, {\"output\": output_1})\n",
    "\n",
    "question_2 = \"What message did he write on the table?\"\n",
    "output_2 = str(chain.invoke(question_2))\n",
    "# # # will be saved to the memory\n",
    "\n",
    "memory.save_context({\"input\": question_2}, {\"output\": output_2})\n",
    "\n",
    "question_3 = \"Who is Julia?\"\n",
    "output_3 =  str(chain.invoke(question_3))\n",
    "# # # will be saved to the memory\n",
    "\n",
    "memory.save_context({\"input\": question_3}, {\"output\": output_3})\n",
    "\n",
    "memory.load_memory_variables({})\n"
   ]
  }
 ],
 "metadata": {
  "kernelspec": {
   "display_name": "env",
   "language": "python",
   "name": "python3"
  },
  "language_info": {
   "codemirror_mode": {
    "name": "ipython",
    "version": 3
   },
   "file_extension": ".py",
   "mimetype": "text/x-python",
   "name": "python",
   "nbconvert_exporter": "python",
   "pygments_lexer": "ipython3",
   "version": "3.11.11"
  }
 },
 "nbformat": 4,
 "nbformat_minor": 2
}
