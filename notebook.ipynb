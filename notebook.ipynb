{
 "cells": [
  {
   "cell_type": "code",
   "execution_count": null,
   "metadata": {},
   "outputs": [
    {
     "name": "stdout",
     "output_type": "stream",
     "text": [
      "\n",
      "        Here is what I know:\n",
      "        Director:\n",
      "        The Harry Potter film series was directed by various directors, including Chris Columbus, Alfonso Cuarón, Mike Newell, and David Yates.\n",
      "        Main Cast:\n",
      "        Daniel Radcliffe as Harry Potter\n",
      "        Emma Watson as Hermione Granger\n",
      "        Rupert Grint as Ron Weasley\n",
      "        Budget:\n",
      "        The budget for each Harry Potter film varied but generally ranged from $125 million to $250 million.\n",
      "        Box Office Revenue:\n",
      "        The Harry Potter film series collectively grossed over $7.7 billion worldwide, making it one of the highest-grossing film franchises of all time.\n",
      "        Genre of the movie:\n",
      "        Fantasy, Adventure\n",
      "        Small Synopsis:\n",
      "        Based on the beloved book series by J.K. Rowling, the Harry Potter films follow the journey of a young wizard, Harry Potter, as he attends Hogwarts School of Witchcraft and Wizardry, battles the dark wizard Voldemort, and discovers his true destiny in the wizarding world."
     ]
    },
    {
     "data": {
      "text/plain": [
       "AIMessageChunk(content='\\n        Here is what I know:\\n        Director:\\n        The Harry Potter film series was directed by various directors, including Chris Columbus, Alfonso Cuarón, Mike Newell, and David Yates.\\n        Main Cast:\\n        Daniel Radcliffe as Harry Potter\\n        Emma Watson as Hermione Granger\\n        Rupert Grint as Ron Weasley\\n        Budget:\\n        The budget for each Harry Potter film varied but generally ranged from $125 million to $250 million.\\n        Box Office Revenue:\\n        The Harry Potter film series collectively grossed over $7.7 billion worldwide, making it one of the highest-grossing film franchises of all time.\\n        Genre of the movie:\\n        Fantasy, Adventure\\n        Small Synopsis:\\n        Based on the beloved book series by J.K. Rowling, the Harry Potter films follow the journey of a young wizard, Harry Potter, as he attends Hogwarts School of Witchcraft and Wizardry, battles the dark wizard Voldemort, and discovers his true destiny in the wizarding world.')"
      ]
     },
     "execution_count": 3,
     "metadata": {},
     "output_type": "execute_result"
    }
   ],
   "source": [
    "# Make a chain that takes the name of a movie \n",
    "# and replies with information about the movie such as \n",
    "# the director, the main cast, the budget, the box office revenue, the genre of the movie and a small synopsis.\n",
    "\n",
    "from langchain.llms import OpenAI\n",
    "from langchain.chat_models import ChatOpenAI\n",
    "from langchain.prompts import PromptTemplate, ChatPromptTemplate\n",
    "\n",
    "from langchain.callbacks import StreamingStdOutCallbackHandler\n",
    "from langchain.prompts.few_shot import FewShotChatMessagePromptTemplate\n",
    "\n",
    "chat = ChatOpenAI(model_name=\"gpt-3.5-turbo\", temperature=0.1, streaming=True, callbacks=[StreamingStdOutCallbackHandler()])\n",
    "\n",
    "examples = [\n",
    "    {\n",
    "        \"movie\": \"Wicked\",\n",
    "        \"answer\": \"\"\"\n",
    "        Here is what I know:\n",
    "        Director: \n",
    "        Jon M. Chu\n",
    "        Main Cast:\n",
    "        Cynthia Erivo as Elphaba Thropp\n",
    "        Ariana Grande as Glinda Upland \n",
    "        Jonathan Bailey as Fiyero Tigelaar\n",
    "        Budget:\n",
    "        Approximately $150 million\n",
    "        Box Office Revenue:\n",
    "        As of January 2025, the film has grossed over $681.3 million worldwide, making it the highest-grossing musical film adaptation to date. \n",
    "        Genre of the movie:\n",
    "        Musical Fantasy\n",
    "        Small Synopsis:\n",
    "        Set in the enchanting Land of Oz, \"Wicked\" explores the untold backstory of Elphaba, a young woman born with emerald-green skin, and her complex relationship with Glinda, a popular and ambitious peer. \n",
    "        \"\"\"\n",
    "    },\n",
    "    {\n",
    "        \"movie\": \"Moana2\",\n",
    "        \"answer\": \"\"\"\n",
    "        Here is what I know:\n",
    "        Director:\n",
    "        David Derrick Jr.\n",
    "        Jason Hand\n",
    "        Dana Ledoux Miller\n",
    "        Main Cast:\n",
    "        Auliʻi Cravalho as Moana\n",
    "        Dwayne Johnson as Maui\n",
    "        Hualālai Chung as Moni\n",
    "        Budget:\n",
    "        Approximately $150 million\n",
    "        Box Office Revenue:\n",
    "        As of January 2025, the film has grossed over $960.5 million worldwide, reflecting its strong performance and popularity among audiences\n",
    "        Genre of the movie:\n",
    "        Animated Musical Adventure\n",
    "        Small Synopsis:\n",
    "        Set three years after the events of the original film, \"Moana 2\" follows Moana, now a revered wayfinder and leader in her community. After receiving an unexpected call from her wayfinding ancestors, she embarks on a daring voyage to the far seas of Oceania, venturing into dangerous, long-lost waters. \n",
    "        \"\"\"\n",
    "    }\n",
    "]\n",
    "\n",
    "example_prompt = ChatPromptTemplate.from_messages(\n",
    "    [\n",
    "        (\"human\", \"What do you know about the movie {movie}?\"),\n",
    "        (\"ai\", \"{answer}\"),\n",
    "    ]\n",
    ")\n",
    "\n",
    "example_prompt = FewShotChatMessagePromptTemplate(\n",
    "    example_prompt=example_prompt,\n",
    "    examples=examples,\n",
    ")\n",
    "\n",
    "final_prompt = ChatPromptTemplate.from_messages(\n",
    "    [\n",
    "        (\"system\", \"You are a movie expert, you give short answers.\"),\n",
    "        example_prompt,\n",
    "        (\"human\", \"What do you know about the movie {movie}?\"),\n",
    "    ]\n",
    ")\n",
    "\n",
    "chain = final_prompt | chat\n",
    "\n",
    "chain.invoke({\"movie\": \"Harry Potter\"})"
   ]
  }
 ],
 "metadata": {
  "kernelspec": {
   "display_name": "env",
   "language": "python",
   "name": "python3"
  },
  "language_info": {
   "codemirror_mode": {
    "name": "ipython",
    "version": 3
   },
   "file_extension": ".py",
   "mimetype": "text/x-python",
   "name": "python",
   "nbconvert_exporter": "python",
   "pygments_lexer": "ipython3",
   "version": "3.11.11"
  }
 },
 "nbformat": 4,
 "nbformat_minor": 2
}
